{
 "cells": [
  {
   "cell_type": "markdown",
   "id": "36657efe-f108-494c-a739-29b71529380b",
   "metadata": {},
   "source": [
    "# HW 1  - 01_intro\n",
    "\n",
    "See [HW1 assignment in the course repo](https://github.com/DataTalksClub/llm-zoomcamp/blob/main/cohorts/2024/01-intro/homework.md)\n",
    "\n",
    "\n",
    "## Notes\n",
    "\n",
    "Setup week for elsticsearch and OpenAI. Everything's working.\n",
    "\n",
    "I extracted functions into `lib/my_elasticsearch.py` and `lib/my_llm.py` .\n",
    "They look like something that will be used in upcoming weeks, future me will appreciate the head start.\n",
    "\n",
    "Week 2 introduces other LLM services, which will clarify what a nice generic LLM \n",
    "client interface looks like. \n",
    "\n",
    "Didn't incorporate  minsearch.py into `my_elasticsearch.py`, I doubt we'll come back to it. "
   ]
  },
  {
   "cell_type": "code",
   "execution_count": 2,
   "id": "06584f70-f0be-4c1b-b9ec-1d479dbcd8e9",
   "metadata": {
    "ExecuteTime": {
     "end_time": "2024-07-01T00:26:04.707633Z",
     "start_time": "2024-07-01T00:26:04.422917Z"
    }
   },
   "outputs": [],
   "source": [
    "import os\n",
    "\n",
    "DIR = os.get_cwd()\n",
    "from lib import my_elasticsearch"
   ]
  },
  {
   "cell_type": "markdown",
   "id": "4bdb89a7-96d5-4b6c-af56-1a0f748e8607",
   "metadata": {},
   "source": [
    "# One-time setup to add documents to elasticsearch"
   ]
  },
  {
   "cell_type": "code",
   "execution_count": 5,
   "id": "41a66fc3-b324-4e61-adc7-86b2ac40d1d9",
   "metadata": {},
   "outputs": [],
   "source": [
    "import json\n",
    "\n",
    "output = 'scrubbed_docs.json'\n",
    "# v1 - downloaded the search_workshop repo that this came from \n",
    "# with open('../search_workshop/documents.json', 'rt') as fp:\n",
    "#     raw_documents = json.load(fp)\n",
    "\n",
    "# for item in raw_documents:\n",
    "#     c = item['course']\n",
    "#     for doc in item['documents']:\n",
    "#         doc['course'] = c\n",
    "\n",
    "# save for next time\n",
    "# with open(f\"{DIR}/{output}\", 'w') as op:\n",
    "#     json.dump(raw_documents, op)\n",
    "\n",
    "# going forward: load from file\n",
    "with open(output, 'rt') as fp:\n",
    "    raw_documents = json.load(fp)\n",
    "\n",
    "# Flatten them to one list\n",
    "documents = raw_documents\n",
    "all_docs = []\n",
    "for category in documents:\n",
    "    print(f\"Category: {category['course']}\")\n",
    "    all_docs.extend(category['documents'])\n",
    "    print(len(all_docs))"
   ]
  },
  {
   "cell_type": "code",
   "execution_count": 23,
   "id": "84d2a4f9-7c16-4132-be41-bb2ee10491c8",
   "metadata": {},
   "outputs": [],
   "source": [
    "# TODO save the full flat list so I don't have to reprocess? knock on wood"
   ]
  },
  {
   "cell_type": "markdown",
   "id": "bb492b29-ec81-42b5-86bf-3d111efe0b5d",
   "metadata": {},
   "source": [
    "# Import to elasticsearch"
   ]
  },
  {
   "cell_type": "code",
   "execution_count": 3,
   "id": "87a68384-6521-4f56-b385-0ce5df6300f8",
   "metadata": {
    "ExecuteTime": {
     "end_time": "2024-07-01T00:26:09.984490Z",
     "start_time": "2024-07-01T00:26:09.946875Z"
    }
   },
   "outputs": [
    {
     "data": {
      "text/plain": [
       "ObjectApiResponse({'name': 'eb170f70b4fa', 'cluster_name': 'docker-cluster', 'cluster_uuid': '6ZPf_FQxSomgHxU1wh4P7w', 'version': {'number': '8.4.3', 'build_flavor': 'default', 'build_type': 'docker', 'build_hash': '42f05b9372a9a4a470db3b52817899b99a76ee73', 'build_date': '2022-10-04T07:17:24.662462378Z', 'build_snapshot': False, 'lucene_version': '9.3.0', 'minimum_wire_compatibility_version': '7.17.0', 'minimum_index_compatibility_version': '7.0.0'}, 'tagline': 'You Know, for Search'})"
      ]
     },
     "execution_count": 3,
     "metadata": {},
     "output_type": "execute_result"
    }
   ],
   "source": [
    "es_client = my_elasticsearch.get_client('http://localhost:9200')\n",
    "es_client.info()  # anybody home?"
   ]
  },
  {
   "cell_type": "code",
   "execution_count": 5,
   "id": "665670d5-d28b-46d9-8929-fea0d30cd0bc",
   "metadata": {
    "ExecuteTime": {
     "end_time": "2024-07-01T00:27:09.939253Z",
     "start_time": "2024-07-01T00:27:09.865150Z"
    }
   },
   "outputs": [
    {
     "ename": "BadRequestError",
     "evalue": "BadRequestError(400, 'resource_already_exists_exception', 'index [course_questions/vd-aOgqZTYGrLJFD6iRpMQ] already exists')",
     "output_type": "error",
     "traceback": [
      "\u001B[0;31m---------------------------------------------------------------------------\u001B[0m",
      "\u001B[0;31mBadRequestError\u001B[0m                           Traceback (most recent call last)",
      "Cell \u001B[0;32mIn[5], line 18\u001B[0m\n\u001B[1;32m     16\u001B[0m index_name \u001B[38;5;241m=\u001B[39m \u001B[38;5;124m'\u001B[39m\u001B[38;5;124mcourse_questions\u001B[39m\u001B[38;5;124m'\u001B[39m\n\u001B[1;32m     17\u001B[0m \u001B[38;5;66;03m# es_client.indices.create(index=index_name, body=index_settings)\u001B[39;00m\n\u001B[0;32m---> 18\u001B[0m \u001B[43mmy_elasticsearch\u001B[49m\u001B[38;5;241;43m.\u001B[39;49m\u001B[43mcreate_index\u001B[49m\u001B[43m(\u001B[49m\u001B[43mindex_name\u001B[49m\u001B[43m)\u001B[49m\n",
      "File \u001B[0;32m~/workspace/llm_zoomcamp/llm-zoomcamp/my_work/01-intro/lib/my_elasticsearch.py:39\u001B[0m, in \u001B[0;36mcreate_index\u001B[0;34m(index_name)\u001B[0m\n\u001B[1;32m     24\u001B[0m index_settings \u001B[38;5;241m=\u001B[39m {\n\u001B[1;32m     25\u001B[0m     \u001B[38;5;124m\"\u001B[39m\u001B[38;5;124msettings\u001B[39m\u001B[38;5;124m\"\u001B[39m: {\n\u001B[1;32m     26\u001B[0m         \u001B[38;5;124m\"\u001B[39m\u001B[38;5;124mnumber_of_shards\u001B[39m\u001B[38;5;124m\"\u001B[39m: \u001B[38;5;241m1\u001B[39m,\n\u001B[0;32m   (...)\u001B[0m\n\u001B[1;32m     36\u001B[0m     }\n\u001B[1;32m     37\u001B[0m }\n\u001B[1;32m     38\u001B[0m \u001B[38;5;66;03m# some logging here with the API response would be luxe\u001B[39;00m\n\u001B[0;32m---> 39\u001B[0m \u001B[38;5;28;01mreturn\u001B[39;00m \u001B[43mget_client\u001B[49m\u001B[43m(\u001B[49m\u001B[43m)\u001B[49m\u001B[38;5;241;43m.\u001B[39;49m\u001B[43mindices\u001B[49m\u001B[38;5;241;43m.\u001B[39;49m\u001B[43mcreate\u001B[49m\u001B[43m(\u001B[49m\u001B[43mindex\u001B[49m\u001B[38;5;241;43m=\u001B[39;49m\u001B[43mindex_name\u001B[49m\u001B[43m,\u001B[49m\u001B[43m \u001B[49m\u001B[43mbody\u001B[49m\u001B[38;5;241;43m=\u001B[39;49m\u001B[43mindex_settings\u001B[49m\u001B[43m)\u001B[49m\n",
      "File \u001B[0;32m~/workspace/llm_zoomcamp/venv-3-12-3/lib/python3.12/site-packages/elasticsearch/_sync/client/utils.py:446\u001B[0m, in \u001B[0;36m_rewrite_parameters.<locals>.wrapper.<locals>.wrapped\u001B[0;34m(*args, **kwargs)\u001B[0m\n\u001B[1;32m    443\u001B[0m         \u001B[38;5;28;01mexcept\u001B[39;00m \u001B[38;5;167;01mKeyError\u001B[39;00m:\n\u001B[1;32m    444\u001B[0m             \u001B[38;5;28;01mpass\u001B[39;00m\n\u001B[0;32m--> 446\u001B[0m \u001B[38;5;28;01mreturn\u001B[39;00m \u001B[43mapi\u001B[49m\u001B[43m(\u001B[49m\u001B[38;5;241;43m*\u001B[39;49m\u001B[43margs\u001B[49m\u001B[43m,\u001B[49m\u001B[43m \u001B[49m\u001B[38;5;241;43m*\u001B[39;49m\u001B[38;5;241;43m*\u001B[39;49m\u001B[43mkwargs\u001B[49m\u001B[43m)\u001B[49m\n",
      "File \u001B[0;32m~/workspace/llm_zoomcamp/venv-3-12-3/lib/python3.12/site-packages/elasticsearch/_sync/client/indices.py:553\u001B[0m, in \u001B[0;36mIndicesClient.create\u001B[0;34m(self, index, aliases, error_trace, filter_path, human, mappings, master_timeout, pretty, settings, timeout, wait_for_active_shards, body)\u001B[0m\n\u001B[1;32m    551\u001B[0m \u001B[38;5;28;01mif\u001B[39;00m __body \u001B[38;5;129;01mis\u001B[39;00m \u001B[38;5;129;01mnot\u001B[39;00m \u001B[38;5;28;01mNone\u001B[39;00m:\n\u001B[1;32m    552\u001B[0m     __headers[\u001B[38;5;124m\"\u001B[39m\u001B[38;5;124mcontent-type\u001B[39m\u001B[38;5;124m\"\u001B[39m] \u001B[38;5;241m=\u001B[39m \u001B[38;5;124m\"\u001B[39m\u001B[38;5;124mapplication/json\u001B[39m\u001B[38;5;124m\"\u001B[39m\n\u001B[0;32m--> 553\u001B[0m \u001B[38;5;28;01mreturn\u001B[39;00m \u001B[38;5;28;43mself\u001B[39;49m\u001B[38;5;241;43m.\u001B[39;49m\u001B[43mperform_request\u001B[49m\u001B[43m(\u001B[49m\u001B[43m  \u001B[49m\u001B[38;5;66;43;03m# type: ignore[return-value]\u001B[39;49;00m\n\u001B[1;32m    554\u001B[0m \u001B[43m    \u001B[49m\u001B[38;5;124;43m\"\u001B[39;49m\u001B[38;5;124;43mPUT\u001B[39;49m\u001B[38;5;124;43m\"\u001B[39;49m\u001B[43m,\u001B[49m\n\u001B[1;32m    555\u001B[0m \u001B[43m    \u001B[49m\u001B[43m__path\u001B[49m\u001B[43m,\u001B[49m\n\u001B[1;32m    556\u001B[0m \u001B[43m    \u001B[49m\u001B[43mparams\u001B[49m\u001B[38;5;241;43m=\u001B[39;49m\u001B[43m__query\u001B[49m\u001B[43m,\u001B[49m\n\u001B[1;32m    557\u001B[0m \u001B[43m    \u001B[49m\u001B[43mheaders\u001B[49m\u001B[38;5;241;43m=\u001B[39;49m\u001B[43m__headers\u001B[49m\u001B[43m,\u001B[49m\n\u001B[1;32m    558\u001B[0m \u001B[43m    \u001B[49m\u001B[43mbody\u001B[49m\u001B[38;5;241;43m=\u001B[39;49m\u001B[43m__body\u001B[49m\u001B[43m,\u001B[49m\n\u001B[1;32m    559\u001B[0m \u001B[43m    \u001B[49m\u001B[43mendpoint_id\u001B[49m\u001B[38;5;241;43m=\u001B[39;49m\u001B[38;5;124;43m\"\u001B[39;49m\u001B[38;5;124;43mindices.create\u001B[39;49m\u001B[38;5;124;43m\"\u001B[39;49m\u001B[43m,\u001B[49m\n\u001B[1;32m    560\u001B[0m \u001B[43m    \u001B[49m\u001B[43mpath_parts\u001B[49m\u001B[38;5;241;43m=\u001B[39;49m\u001B[43m__path_parts\u001B[49m\u001B[43m,\u001B[49m\n\u001B[1;32m    561\u001B[0m \u001B[43m\u001B[49m\u001B[43m)\u001B[49m\n",
      "File \u001B[0;32m~/workspace/llm_zoomcamp/venv-3-12-3/lib/python3.12/site-packages/elasticsearch/_sync/client/_base.py:423\u001B[0m, in \u001B[0;36mNamespacedClient.perform_request\u001B[0;34m(self, method, path, params, headers, body, endpoint_id, path_parts)\u001B[0m\n\u001B[1;32m    410\u001B[0m \u001B[38;5;28;01mdef\u001B[39;00m \u001B[38;5;21mperform_request\u001B[39m(\n\u001B[1;32m    411\u001B[0m     \u001B[38;5;28mself\u001B[39m,\n\u001B[1;32m    412\u001B[0m     method: \u001B[38;5;28mstr\u001B[39m,\n\u001B[0;32m   (...)\u001B[0m\n\u001B[1;32m    421\u001B[0m     \u001B[38;5;66;03m# Use the internal clients .perform_request() implementation\u001B[39;00m\n\u001B[1;32m    422\u001B[0m     \u001B[38;5;66;03m# so we take advantage of their transport options.\u001B[39;00m\n\u001B[0;32m--> 423\u001B[0m     \u001B[38;5;28;01mreturn\u001B[39;00m \u001B[38;5;28;43mself\u001B[39;49m\u001B[38;5;241;43m.\u001B[39;49m\u001B[43m_client\u001B[49m\u001B[38;5;241;43m.\u001B[39;49m\u001B[43mperform_request\u001B[49m\u001B[43m(\u001B[49m\n\u001B[1;32m    424\u001B[0m \u001B[43m        \u001B[49m\u001B[43mmethod\u001B[49m\u001B[43m,\u001B[49m\n\u001B[1;32m    425\u001B[0m \u001B[43m        \u001B[49m\u001B[43mpath\u001B[49m\u001B[43m,\u001B[49m\n\u001B[1;32m    426\u001B[0m \u001B[43m        \u001B[49m\u001B[43mparams\u001B[49m\u001B[38;5;241;43m=\u001B[39;49m\u001B[43mparams\u001B[49m\u001B[43m,\u001B[49m\n\u001B[1;32m    427\u001B[0m \u001B[43m        \u001B[49m\u001B[43mheaders\u001B[49m\u001B[38;5;241;43m=\u001B[39;49m\u001B[43mheaders\u001B[49m\u001B[43m,\u001B[49m\n\u001B[1;32m    428\u001B[0m \u001B[43m        \u001B[49m\u001B[43mbody\u001B[49m\u001B[38;5;241;43m=\u001B[39;49m\u001B[43mbody\u001B[49m\u001B[43m,\u001B[49m\n\u001B[1;32m    429\u001B[0m \u001B[43m        \u001B[49m\u001B[43mendpoint_id\u001B[49m\u001B[38;5;241;43m=\u001B[39;49m\u001B[43mendpoint_id\u001B[49m\u001B[43m,\u001B[49m\n\u001B[1;32m    430\u001B[0m \u001B[43m        \u001B[49m\u001B[43mpath_parts\u001B[49m\u001B[38;5;241;43m=\u001B[39;49m\u001B[43mpath_parts\u001B[49m\u001B[43m,\u001B[49m\n\u001B[1;32m    431\u001B[0m \u001B[43m    \u001B[49m\u001B[43m)\u001B[49m\n",
      "File \u001B[0;32m~/workspace/llm_zoomcamp/venv-3-12-3/lib/python3.12/site-packages/elasticsearch/_sync/client/_base.py:271\u001B[0m, in \u001B[0;36mBaseClient.perform_request\u001B[0;34m(self, method, path, params, headers, body, endpoint_id, path_parts)\u001B[0m\n\u001B[1;32m    255\u001B[0m \u001B[38;5;28;01mdef\u001B[39;00m \u001B[38;5;21mperform_request\u001B[39m(\n\u001B[1;32m    256\u001B[0m     \u001B[38;5;28mself\u001B[39m,\n\u001B[1;32m    257\u001B[0m     method: \u001B[38;5;28mstr\u001B[39m,\n\u001B[0;32m   (...)\u001B[0m\n\u001B[1;32m    264\u001B[0m     path_parts: Optional[Mapping[\u001B[38;5;28mstr\u001B[39m, Any]] \u001B[38;5;241m=\u001B[39m \u001B[38;5;28;01mNone\u001B[39;00m,\n\u001B[1;32m    265\u001B[0m ) \u001B[38;5;241m-\u001B[39m\u001B[38;5;241m>\u001B[39m ApiResponse[Any]:\n\u001B[1;32m    266\u001B[0m     \u001B[38;5;28;01mwith\u001B[39;00m \u001B[38;5;28mself\u001B[39m\u001B[38;5;241m.\u001B[39m_otel\u001B[38;5;241m.\u001B[39mspan(\n\u001B[1;32m    267\u001B[0m         method,\n\u001B[1;32m    268\u001B[0m         endpoint_id\u001B[38;5;241m=\u001B[39mendpoint_id,\n\u001B[1;32m    269\u001B[0m         path_parts\u001B[38;5;241m=\u001B[39mpath_parts \u001B[38;5;129;01mor\u001B[39;00m {},\n\u001B[1;32m    270\u001B[0m     ) \u001B[38;5;28;01mas\u001B[39;00m otel_span:\n\u001B[0;32m--> 271\u001B[0m         response \u001B[38;5;241m=\u001B[39m \u001B[38;5;28;43mself\u001B[39;49m\u001B[38;5;241;43m.\u001B[39;49m\u001B[43m_perform_request\u001B[49m\u001B[43m(\u001B[49m\n\u001B[1;32m    272\u001B[0m \u001B[43m            \u001B[49m\u001B[43mmethod\u001B[49m\u001B[43m,\u001B[49m\n\u001B[1;32m    273\u001B[0m \u001B[43m            \u001B[49m\u001B[43mpath\u001B[49m\u001B[43m,\u001B[49m\n\u001B[1;32m    274\u001B[0m \u001B[43m            \u001B[49m\u001B[43mparams\u001B[49m\u001B[38;5;241;43m=\u001B[39;49m\u001B[43mparams\u001B[49m\u001B[43m,\u001B[49m\n\u001B[1;32m    275\u001B[0m \u001B[43m            \u001B[49m\u001B[43mheaders\u001B[49m\u001B[38;5;241;43m=\u001B[39;49m\u001B[43mheaders\u001B[49m\u001B[43m,\u001B[49m\n\u001B[1;32m    276\u001B[0m \u001B[43m            \u001B[49m\u001B[43mbody\u001B[49m\u001B[38;5;241;43m=\u001B[39;49m\u001B[43mbody\u001B[49m\u001B[43m,\u001B[49m\n\u001B[1;32m    277\u001B[0m \u001B[43m            \u001B[49m\u001B[43motel_span\u001B[49m\u001B[38;5;241;43m=\u001B[39;49m\u001B[43motel_span\u001B[49m\u001B[43m,\u001B[49m\n\u001B[1;32m    278\u001B[0m \u001B[43m        \u001B[49m\u001B[43m)\u001B[49m\n\u001B[1;32m    279\u001B[0m         otel_span\u001B[38;5;241m.\u001B[39mset_elastic_cloud_metadata(response\u001B[38;5;241m.\u001B[39mmeta\u001B[38;5;241m.\u001B[39mheaders)\n\u001B[1;32m    280\u001B[0m         \u001B[38;5;28;01mreturn\u001B[39;00m response\n",
      "File \u001B[0;32m~/workspace/llm_zoomcamp/venv-3-12-3/lib/python3.12/site-packages/elasticsearch/_sync/client/_base.py:352\u001B[0m, in \u001B[0;36mBaseClient._perform_request\u001B[0;34m(self, method, path, params, headers, body, otel_span)\u001B[0m\n\u001B[1;32m    349\u001B[0m         \u001B[38;5;28;01mexcept\u001B[39;00m (\u001B[38;5;167;01mValueError\u001B[39;00m, \u001B[38;5;167;01mKeyError\u001B[39;00m, \u001B[38;5;167;01mTypeError\u001B[39;00m):\n\u001B[1;32m    350\u001B[0m             \u001B[38;5;28;01mpass\u001B[39;00m\n\u001B[0;32m--> 352\u001B[0m     \u001B[38;5;28;01mraise\u001B[39;00m HTTP_EXCEPTIONS\u001B[38;5;241m.\u001B[39mget(meta\u001B[38;5;241m.\u001B[39mstatus, ApiError)(\n\u001B[1;32m    353\u001B[0m         message\u001B[38;5;241m=\u001B[39mmessage, meta\u001B[38;5;241m=\u001B[39mmeta, body\u001B[38;5;241m=\u001B[39mresp_body\n\u001B[1;32m    354\u001B[0m     )\n\u001B[1;32m    356\u001B[0m \u001B[38;5;66;03m# 'X-Elastic-Product: Elasticsearch' should be on every 2XX response.\u001B[39;00m\n\u001B[1;32m    357\u001B[0m \u001B[38;5;28;01mif\u001B[39;00m \u001B[38;5;129;01mnot\u001B[39;00m \u001B[38;5;28mself\u001B[39m\u001B[38;5;241m.\u001B[39m_verified_elasticsearch:\n\u001B[1;32m    358\u001B[0m     \u001B[38;5;66;03m# If the header is set we mark the server as verified.\u001B[39;00m\n",
      "\u001B[0;31mBadRequestError\u001B[0m: BadRequestError(400, 'resource_already_exists_exception', 'index [course_questions/vd-aOgqZTYGrLJFD6iRpMQ] already exists')"
     ]
    }
   ],
   "source": [
    "# create the index\n",
    "index_name = 'course_questions'\n",
    "my_elasticsearch.create_index(index_name)\n",
    "my_elasticsearch.load_documents(all_docs, index_name)"
   ]
  },
  {
   "cell_type": "markdown",
   "id": "5ffd0b7e5f4fb1c",
   "metadata": {},
   "source": [
    "# Q3"
   ]
  },
  {
   "cell_type": "code",
   "execution_count": 9,
   "id": "179291a6-4eee-48ef-b898-1d701e112681",
   "metadata": {
    "ExecuteTime": {
     "end_time": "2024-07-01T00:35:31.126283Z",
     "start_time": "2024-07-01T00:35:31.074049Z"
    }
   },
   "outputs": [],
   "source": [
    "query = \"How do I execute a command in a running docker container?\"\n",
    "fields = [\"question^4\", \"text\"]\n",
    "answers = my_elasticsearch.search(query, fields)\n",
    "sorted([item['_score'] for item in answers])"
   ]
  },
  {
   "cell_type": "code",
   "execution_count": 96,
   "id": "c3d1d511-0e98-48a7-8317-0914b16da800",
   "metadata": {},
   "outputs": [],
   "source": [
    "answers = my_elasticsearch.search(query, fields, course=\"machine-learning-zoomcamp\", results=3)"
   ]
  },
  {
   "cell_type": "markdown",
   "id": "14595e5acfdda901",
   "metadata": {},
   "source": [
    "# Q4"
   ]
  },
  {
   "cell_type": "code",
   "execution_count": 12,
   "id": "6055aedc0beec48",
   "metadata": {
    "ExecuteTime": {
     "end_time": "2024-07-01T00:43:27.587440Z",
     "start_time": "2024-07-01T00:43:27.526094Z"
    }
   },
   "outputs": [
    {
     "data": {
      "text/plain": [
       "{'_index': 'course_questions',\n",
       " '_id': 'uMRLapABhvmccvXLswTb',\n",
       " '_score': 49.938507,\n",
       " '_source': {'text': 'You can copy files from your local machine into a Docker container using the docker cp command. Here\\'s how to do it:\\nIn the Dockerfile, you can provide the folder containing the files that you want to copy over. The basic syntax is as follows:\\nCOPY [\"src/predict.py\", \"models/xgb_model.bin\", \"./\"]\\t\\t\\t\\t\\t\\t\\t\\t\\t\\t\\tGopakumar Gopinathan',\n",
       "  'section': '5. Deploying Machine Learning Models',\n",
       "  'question': 'How do I copy files from a different folder into docker container’s working directory?',\n",
       "  'course': 'machine-learning-zoomcamp'}}"
      ]
     },
     "execution_count": 12,
     "metadata": {},
     "output_type": "execute_result"
    }
   ],
   "source": [
    "q4_answers = my_elasticsearch.search(query, fields, course=\"machine-learning-zoomcamp\", results=3)\n",
    "# q4_answers[-1]"
   ]
  },
  {
   "cell_type": "markdown",
   "id": "edb2d7b818efcf1e",
   "metadata": {},
   "source": [
    "# Q5"
   ]
  },
  {
   "cell_type": "code",
   "execution_count": 16,
   "id": "bb8a421b45986e4c",
   "metadata": {
    "ExecuteTime": {
     "end_time": "2024-07-01T00:47:00.108560Z",
     "start_time": "2024-07-01T00:47:00.104853Z"
    }
   },
   "outputs": [],
   "source": [
    "prompt_template = \"\"\"\n",
    "You're a course teaching assistant. Answer the QUESTION based on the CONTEXT from the FAQ database.\n",
    "Use only the facts from the CONTEXT when answering the QUESTION.\n",
    "\n",
    "QUESTION: {question}\n",
    "\n",
    "CONTEXT:\n",
    "{context}\n",
    "\"\"\".strip()\n",
    "\n",
    "question = 'How do I execute a command in a running docker container?'"
   ]
  },
  {
   "cell_type": "code",
   "execution_count": 17,
   "id": "28980cfb18d1dda9",
   "metadata": {
    "ExecuteTime": {
     "end_time": "2024-07-01T00:47:01.635848Z",
     "start_time": "2024-07-01T00:47:01.630945Z"
    }
   },
   "outputs": [],
   "source": [
    "context = []\n",
    "\n",
    "context_template = \"\"\"\n",
    "Q: {question}\n",
    "A: {text}\n",
    "\"\"\".strip()\n",
    "\n",
    "for q in q4_answers:\n",
    "    context.append(context_template.format(question=q['_source']['question'], text=q['_source']['text']))\n",
    "context = \"\\n\\n\".join(context)\n",
    "\n",
    "prompt = prompt_template.format(question=question, context=context)"
   ]
  },
  {
   "cell_type": "code",
   "execution_count": 18,
   "id": "522ec9f974ae2fb0",
   "metadata": {
    "ExecuteTime": {
     "end_time": "2024-07-01T00:47:03.892753Z",
     "start_time": "2024-07-01T00:47:03.887305Z"
    }
   },
   "outputs": [
    {
     "data": {
      "text/plain": [
       "1462"
      ]
     },
     "execution_count": 18,
     "metadata": {},
     "output_type": "execute_result"
    }
   ],
   "source": [
    "# Q5: how long is the prompt?\n",
    "len(prompt)"
   ]
  },
  {
   "cell_type": "code",
   "execution_count": 19,
   "id": "cdc92308c7c7631d",
   "metadata": {
    "ExecuteTime": {
     "end_time": "2024-07-01T00:47:06.073351Z",
     "start_time": "2024-07-01T00:47:06.068407Z"
    }
   },
   "outputs": [
    {
     "data": {
      "text/plain": [
       "236"
      ]
     },
     "execution_count": 19,
     "metadata": {},
     "output_type": "execute_result"
    }
   ],
   "source": [
    "# How many words in the prompt?\n",
    "len(prompt.split())\n",
    "# 236\n"
   ]
  },
  {
   "cell_type": "code",
   "execution_count": 20,
   "id": "73b5a8440e0af102",
   "metadata": {
    "ExecuteTime": {
     "end_time": "2024-07-01T00:47:08.647916Z",
     "start_time": "2024-07-01T00:47:08.644535Z"
    }
   },
   "outputs": [],
   "source": [
    "# Q6  How many tokens?"
   ]
  },
  {
   "cell_type": "code",
   "execution_count": 21,
   "id": "500cae92c0ff334a",
   "metadata": {
    "ExecuteTime": {
     "end_time": "2024-07-01T00:47:10.353582Z",
     "start_time": "2024-07-01T00:47:10.065325Z"
    }
   },
   "outputs": [
    {
     "data": {
      "text/plain": [
       "322"
      ]
     },
     "execution_count": 21,
     "metadata": {},
     "output_type": "execute_result"
    }
   ],
   "source": [
    "from lib import my_llm\n",
    "\n",
    "my_llm.count_tokens(prompt)"
   ]
  }
 ],
 "metadata": {
  "kernelspec": {
   "display_name": "Python 3 (ipykernel)",
   "language": "python",
   "name": "python3"
  },
  "language_info": {
   "codemirror_mode": {
    "name": "ipython",
    "version": 3
   },
   "file_extension": ".py",
   "mimetype": "text/x-python",
   "name": "python",
   "nbconvert_exporter": "python",
   "pygments_lexer": "ipython3",
   "version": "3.12.3"
  }
 },
 "nbformat": 4,
 "nbformat_minor": 5
}
